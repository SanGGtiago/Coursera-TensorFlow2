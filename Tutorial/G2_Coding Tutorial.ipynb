{
 "cells": [
  {
   "cell_type": "code",
   "execution_count": 1,
   "metadata": {},
   "outputs": [
    {
     "name": "stdout",
     "output_type": "stream",
     "text": [
      "2.0.0\n"
     ]
    }
   ],
   "source": [
    "import tensorflow as tf\n",
    "print(tf.__version__)"
   ]
  },
  {
   "cell_type": "markdown",
   "metadata": {},
   "source": [
    "# The Sequential model API"
   ]
  },
  {
   "cell_type": "markdown",
   "metadata": {},
   "source": [
    " ## Coding tutorials\n",
    " #### [1. Building a Sequential model](#coding_tutorial_1)\n",
    " #### [2. Convolutional and pooling layers](#coding_tutorial_2)\n",
    " #### [3. The compile method](#coding_tutorial_3)\n",
    " #### [4. The fit method](#coding_tutorial_4)\n",
    " #### [5. The evaluate and predict methods](#coding_tutorial_5)"
   ]
  },
  {
   "cell_type": "markdown",
   "metadata": {},
   "source": [
    "***\n",
    "<a id=\"coding_tutorial_1\"></a>\n",
    "## Building a Sequential model"
   ]
  },
  {
   "cell_type": "code",
   "execution_count": 2,
   "metadata": {},
   "outputs": [],
   "source": [
    "from tensorflow.keras.models import Sequential\n",
    "from tensorflow.keras.layers import Dense, Flatten, Softmax"
   ]
  },
  {
   "cell_type": "markdown",
   "metadata": {},
   "source": [
    "#### Build a feedforward neural network model"
   ]
  },
  {
   "cell_type": "code",
   "execution_count": 3,
   "metadata": {},
   "outputs": [
    {
     "data": {
      "text/plain": [
       "[<tf.Variable 'layer_1/kernel:0' shape=(784, 16) dtype=float32, numpy=\n",
       " array([[ 0.07004161, -0.03061725,  0.01622507, ..., -0.01993783,\n",
       "         -0.04681263,  0.01476642],\n",
       "        [ 0.01226252, -0.00169975, -0.07004688, ..., -0.03904217,\n",
       "          0.05059567, -0.00159509],\n",
       "        [ 0.0857076 ,  0.01695901, -0.03603926, ..., -0.02710137,\n",
       "         -0.0439086 , -0.04898864],\n",
       "        ...,\n",
       "        [ 0.08326007,  0.02585846, -0.04033137, ..., -0.03669854,\n",
       "         -0.02755708, -0.08568921],\n",
       "        [-0.00801302,  0.0757793 ,  0.08502729, ...,  0.08136261,\n",
       "          0.01228069,  0.02731451],\n",
       "        [-0.01146451,  0.01597203, -0.03736015, ...,  0.04834887,\n",
       "         -0.01699226, -0.06815314]], dtype=float32)>,\n",
       " <tf.Variable 'layer_1/bias:0' shape=(16,) dtype=float32, numpy=\n",
       " array([0., 0., 0., 0., 0., 0., 0., 0., 0., 0., 0., 0., 0., 0., 0., 0.],\n",
       "       dtype=float32)>,\n",
       " <tf.Variable 'dense/kernel:0' shape=(16, 16) dtype=float32, numpy=\n",
       " array([[ 0.2310234 , -0.00827372,  0.03278899, -0.19254133, -0.42241395,\n",
       "         -0.32819435,  0.10678783, -0.00939438,  0.30072525, -0.17634213,\n",
       "         -0.3421339 ,  0.38944617,  0.27341935, -0.12836769, -0.13451234,\n",
       "          0.2265183 ],\n",
       "        [ 0.02855778,  0.23563662,  0.21523878,  0.28996924, -0.29413596,\n",
       "          0.353438  , -0.42628774, -0.01914337,  0.01383898,  0.18945089,\n",
       "         -0.14893371,  0.21524552, -0.22421123, -0.26003945, -0.23742355,\n",
       "         -0.4035364 ],\n",
       "        [ 0.1866484 ,  0.2429125 , -0.03782433,  0.12544718,  0.37988517,\n",
       "         -0.04112548,  0.17210314,  0.11277297,  0.12372395, -0.14432794,\n",
       "          0.10134158, -0.04850972, -0.174499  ,  0.26225814, -0.10330608,\n",
       "          0.2301664 ],\n",
       "        [-0.23932377, -0.15609038,  0.34419754, -0.28062826, -0.2834835 ,\n",
       "          0.31181708, -0.16784301,  0.31255344,  0.28893563,  0.00525874,\n",
       "          0.07347187, -0.2252244 ,  0.11579213, -0.04432607,  0.17110947,\n",
       "         -0.40352774],\n",
       "        [ 0.01000264, -0.14013562, -0.37722594,  0.4319826 ,  0.19023398,\n",
       "         -0.00082105, -0.18383628,  0.40675572,  0.10905614, -0.30552882,\n",
       "         -0.35261765,  0.23024747,  0.04922596, -0.42421854, -0.39745134,\n",
       "          0.30170706],\n",
       "        [ 0.14291492, -0.16695362, -0.02774259, -0.39785624, -0.4199612 ,\n",
       "          0.4172223 , -0.26270133, -0.01404318,  0.02832651, -0.3528136 ,\n",
       "          0.26146516, -0.24266373,  0.29720148, -0.07063159,  0.25599346,\n",
       "          0.395941  ],\n",
       "        [ 0.23377863,  0.31210342,  0.37298688,  0.07582149, -0.3064151 ,\n",
       "         -0.24336544,  0.05172765, -0.27945176,  0.14943758, -0.228814  ,\n",
       "          0.28155896,  0.22155884, -0.13417837,  0.15739384,  0.18326804,\n",
       "          0.28854993],\n",
       "        [ 0.30166647, -0.36749014,  0.23592106, -0.09493202,  0.42875847,\n",
       "         -0.29069263,  0.14841637,  0.3747104 ,  0.04809469,  0.3022007 ,\n",
       "          0.21282384,  0.26379225,  0.1161705 , -0.29842767,  0.21891913,\n",
       "         -0.15447986],\n",
       "        [-0.36084098, -0.32517618, -0.16836438,  0.24846819, -0.00609952,\n",
       "         -0.32369626, -0.27695626, -0.33232152,  0.36870632, -0.06505331,\n",
       "         -0.01256791, -0.022881  , -0.26437306,  0.07501218, -0.29298204,\n",
       "          0.41363004],\n",
       "        [ 0.3948647 , -0.24723728, -0.17558464,  0.4016547 ,  0.12261435,\n",
       "         -0.05943191, -0.02132562,  0.07958969,  0.30591235,  0.2569426 ,\n",
       "          0.08802733,  0.05578592, -0.19244295, -0.12946379, -0.33687434,\n",
       "          0.30972853],\n",
       "        [ 0.3107665 , -0.25095993, -0.21563016, -0.07269555,  0.21174058,\n",
       "          0.09869638, -0.19108269, -0.2971843 ,  0.06052014,  0.38780323,\n",
       "         -0.16007331,  0.27638653, -0.10603222,  0.31824455, -0.07547513,\n",
       "         -0.3433043 ],\n",
       "        [-0.36499292,  0.3824531 , -0.35840362,  0.23940828,  0.11983857,\n",
       "         -0.4293152 , -0.09660915,  0.1606814 ,  0.13723609, -0.32936168,\n",
       "         -0.4057807 ,  0.12552121, -0.01106548,  0.24127814,  0.00103548,\n",
       "         -0.13460091],\n",
       "        [ 0.3545967 ,  0.13584009, -0.25461853,  0.11844674, -0.28466508,\n",
       "         -0.30828145, -0.31355724, -0.01623338,  0.27168193,  0.2990128 ,\n",
       "          0.361441  , -0.32753342, -0.19312577, -0.3374152 ,  0.07196018,\n",
       "         -0.29273233],\n",
       "        [-0.34058955,  0.10801509,  0.25012538,  0.13397941,  0.03896761,\n",
       "         -0.25577527,  0.00813609, -0.03460279,  0.03044415, -0.3794023 ,\n",
       "          0.11194703,  0.01731274, -0.0524568 , -0.41610867, -0.06095767,\n",
       "         -0.07261357],\n",
       "        [ 0.37416348,  0.08446923,  0.25880882,  0.17570165, -0.3961972 ,\n",
       "         -0.00889066, -0.10973743,  0.02375171,  0.3702685 ,  0.4302487 ,\n",
       "         -0.08524466, -0.2249052 ,  0.23063359, -0.35172558, -0.1705268 ,\n",
       "          0.11893103],\n",
       "        [-0.02732769, -0.22479948,  0.06522244, -0.32483262, -0.1795173 ,\n",
       "          0.17381462, -0.27319726,  0.31172857, -0.00285268, -0.4099533 ,\n",
       "          0.2798291 ,  0.18940464,  0.01682669, -0.3811108 , -0.40986162,\n",
       "          0.11988226]], dtype=float32)>,\n",
       " <tf.Variable 'dense/bias:0' shape=(16,) dtype=float32, numpy=\n",
       " array([0., 0., 0., 0., 0., 0., 0., 0., 0., 0., 0., 0., 0., 0., 0., 0.],\n",
       "       dtype=float32)>,\n",
       " <tf.Variable 'dense_1/kernel:0' shape=(16, 10) dtype=float32, numpy=\n",
       " array([[ 0.23344755, -0.25670657, -0.26349056, -0.12003747,  0.21452457,\n",
       "          0.19854748,  0.19902158, -0.26439366, -0.2714601 , -0.1767349 ],\n",
       "        [ 0.10160917, -0.14429009,  0.37559724,  0.41506445, -0.19762552,\n",
       "          0.25756085,  0.36514485,  0.4267099 , -0.15030557,  0.38597184],\n",
       "        [-0.20365989,  0.08567554,  0.2448945 , -0.426043  ,  0.13721049,\n",
       "         -0.44538927, -0.31973785,  0.44119954, -0.19876167, -0.16630784],\n",
       "        [-0.37442476,  0.0555529 , -0.07651371, -0.38037714,  0.19252032,\n",
       "         -0.23652044,  0.18073714, -0.29239264,  0.4198895 ,  0.06875736],\n",
       "        [ 0.1903252 , -0.22614756, -0.14244118, -0.25515842, -0.2613195 ,\n",
       "          0.15625393,  0.4130345 ,  0.19273084, -0.39170465, -0.04407123],\n",
       "        [-0.09627232, -0.36417615, -0.47858596,  0.35668617,  0.37515503,\n",
       "          0.441635  ,  0.14748645,  0.01323825, -0.14599124,  0.06303865],\n",
       "        [-0.04902086, -0.00121048, -0.02758345,  0.07124668, -0.23478012,\n",
       "          0.28645414, -0.41002506,  0.33753258, -0.2645461 ,  0.06581205],\n",
       "        [ 0.31745994, -0.43886206,  0.1601696 , -0.12353849,  0.23120886,\n",
       "         -0.27405024,  0.08175075,  0.02657914,  0.24061394,  0.39834088],\n",
       "        [ 0.04492503,  0.3221435 ,  0.03409076,  0.35275614,  0.05658311,\n",
       "          0.05819356, -0.41546327, -0.280666  , -0.20266116, -0.07744497],\n",
       "        [-0.18714923,  0.22771847, -0.18119663, -0.37744993,  0.11544758,\n",
       "         -0.46782598, -0.20713457,  0.11844468, -0.36224857, -0.43326727],\n",
       "        [-0.15436187, -0.1302036 ,  0.00831357, -0.3205017 ,  0.11753714,\n",
       "          0.37010652,  0.22577727, -0.32991236,  0.45057058,  0.18333805],\n",
       "        [-0.380153  ,  0.04534125, -0.40264353, -0.01163673, -0.30183023,\n",
       "         -0.00555104,  0.3130604 , -0.44836012, -0.13808817, -0.41715193],\n",
       "        [ 0.22845298,  0.19029957, -0.0233793 , -0.09399688,  0.13231677,\n",
       "         -0.3683692 , -0.34751993, -0.44752553, -0.3463456 ,  0.07035953],\n",
       "        [ 0.00255167,  0.46457487,  0.37912196,  0.06496942, -0.24870257,\n",
       "         -0.21735913,  0.03780961,  0.14599973,  0.10703814, -0.01587892],\n",
       "        [-0.4055238 , -0.13126534,  0.16455722,  0.2520948 ,  0.19277298,\n",
       "          0.11235464,  0.0991829 ,  0.08688742, -0.27866888,  0.4729054 ],\n",
       "        [-0.08176333,  0.00171319,  0.01220712, -0.42881903,  0.44151086,\n",
       "         -0.2491756 , -0.34751305, -0.20394954, -0.32116187,  0.37871128]],\n",
       "       dtype=float32)>,\n",
       " <tf.Variable 'dense_1/bias:0' shape=(10,) dtype=float32, numpy=array([0., 0., 0., 0., 0., 0., 0., 0., 0., 0.], dtype=float32)>]"
      ]
     },
     "execution_count": 3,
     "metadata": {},
     "output_type": "execute_result"
    }
   ],
   "source": [
    "# Build the Sequential feedforward neural network model\n",
    "model = Sequential([\n",
    "    Flatten(input_shape=(28, 28)),\n",
    "    Dense(16, activation='relu', name='layer_1'),\n",
    "    Dense(16, activation='relu'),\n",
    "    Dense(10, activation='softmax')\n",
    "])\n",
    "model.weights"
   ]
  },
  {
   "cell_type": "code",
   "execution_count": 4,
   "metadata": {},
   "outputs": [
    {
     "name": "stdout",
     "output_type": "stream",
     "text": [
      "Model: \"sequential\"\n",
      "_________________________________________________________________\n",
      "Layer (type)                 Output Shape              Param #   \n",
      "=================================================================\n",
      "flatten (Flatten)            (None, 784)               0         \n",
      "_________________________________________________________________\n",
      "layer_1 (Dense)              (None, 16)                12560     \n",
      "_________________________________________________________________\n",
      "dense (Dense)                (None, 16)                272       \n",
      "_________________________________________________________________\n",
      "dense_1 (Dense)              (None, 10)                170       \n",
      "=================================================================\n",
      "Total params: 13,002\n",
      "Trainable params: 13,002\n",
      "Non-trainable params: 0\n",
      "_________________________________________________________________\n"
     ]
    }
   ],
   "source": [
    "# Print the model summary\n",
    "\n",
    "model.summary()"
   ]
  },
  {
   "cell_type": "markdown",
   "metadata": {},
   "source": [
    "***\n",
    "<a id=\"coding_tutorial_2\"></a>\n",
    "## Convolutional and pooling layers"
   ]
  },
  {
   "cell_type": "code",
   "execution_count": 42,
   "metadata": {},
   "outputs": [],
   "source": [
    "from tensorflow.keras.models import Sequential\n",
    "from tensorflow.keras.layers import Dense, Flatten, Conv2D, MaxPooling2D\n",
    "import tensorflow as tf"
   ]
  },
  {
   "cell_type": "markdown",
   "metadata": {},
   "source": [
    "#### Build a convolutional neural network model"
   ]
  },
  {
   "cell_type": "code",
   "execution_count": 49,
   "metadata": {},
   "outputs": [],
   "source": [
    "# Build the Sequential convolutional neural network model\n",
    "\n",
    "model = Sequential([\n",
    "    Conv2D(16, (3,3), activation='relu', input_shape=(28, 28, 1)),\n",
    "    MaxPooling2D((3, 3)),\n",
    "    Flatten(),\n",
    "    Dense(10, activation='softmax')\n",
    "])"
   ]
  },
  {
   "cell_type": "code",
   "execution_count": 50,
   "metadata": {},
   "outputs": [
    {
     "name": "stdout",
     "output_type": "stream",
     "text": [
      "Model: \"sequential_7\"\n",
      "_________________________________________________________________\n",
      "Layer (type)                 Output Shape              Param #   \n",
      "=================================================================\n",
      "conv2d_7 (Conv2D)            (None, 26, 26, 16)        160       \n",
      "_________________________________________________________________\n",
      "max_pooling2d_7 (MaxPooling2 (None, 8, 8, 16)          0         \n",
      "_________________________________________________________________\n",
      "flatten_7 (Flatten)          (None, 1024)              0         \n",
      "_________________________________________________________________\n",
      "dense_7 (Dense)              (None, 10)                10250     \n",
      "=================================================================\n",
      "Total params: 10,410\n",
      "Trainable params: 10,410\n",
      "Non-trainable params: 0\n",
      "_________________________________________________________________\n"
     ]
    }
   ],
   "source": [
    "# Print the model summary\n",
    "\n",
    "model.summary()"
   ]
  },
  {
   "cell_type": "markdown",
   "metadata": {},
   "source": [
    "***\n",
    "<a id=\"coding_tutorial_3\"></a>\n",
    "## The compile method"
   ]
  },
  {
   "cell_type": "markdown",
   "metadata": {},
   "source": [
    "#### Compile the model"
   ]
  },
  {
   "cell_type": "code",
   "execution_count": 51,
   "metadata": {},
   "outputs": [],
   "source": [
    "# Define the model optimizer, loss function and metrics\n",
    "\n",
    "model.compile(\n",
    "    optimizer=tf.keras.optimizers.Adam(learning_rate=0.005),\n",
    "    loss='sparse_categorical_crossentropy',\n",
    "    metrics=['accuracy', 'mae']\n",
    ")"
   ]
  },
  {
   "cell_type": "code",
   "execution_count": 52,
   "metadata": {},
   "outputs": [
    {
     "name": "stdout",
     "output_type": "stream",
     "text": [
      "sparse_categorical_crossentropy\n",
      "<tensorflow.python.keras.optimizer_v2.adam.Adam object at 0x7fa82c15c978>\n",
      "[<tensorflow.python.keras.metrics.MeanMetricWrapper object at 0x7fa82c3e7be0>, <tensorflow.python.keras.metrics.MeanMetricWrapper object at 0x7fa82c46f9e8>]\n"
     ]
    }
   ],
   "source": [
    "# Print the resulting model attributes\n",
    "\n",
    "print(model.loss)\n",
    "print(model.optimizer)\n",
    "print(model.metrics)"
   ]
  },
  {
   "cell_type": "markdown",
   "metadata": {},
   "source": [
    "***\n",
    "<a id=\"coding_tutorial_4\"></a>\n",
    "## The fit method"
   ]
  },
  {
   "cell_type": "code",
   "execution_count": 53,
   "metadata": {},
   "outputs": [],
   "source": [
    "from tensorflow.keras.preprocessing import image\n",
    "import matplotlib.pyplot as plt\n",
    "import numpy as np\n",
    "import pandas as pd"
   ]
  },
  {
   "cell_type": "markdown",
   "metadata": {},
   "source": [
    "#### Load the data"
   ]
  },
  {
   "cell_type": "code",
   "execution_count": 54,
   "metadata": {},
   "outputs": [],
   "source": [
    "# Load the Fashion-MNIST dataset\n",
    "\n",
    "fashion_mnist_data = tf.keras.datasets.fashion_mnist\n",
    "(train_images, train_labels), (test_images, test_labels) = fashion_mnist_data.load_data()"
   ]
  },
  {
   "cell_type": "code",
   "execution_count": 55,
   "metadata": {},
   "outputs": [
    {
     "name": "stdout",
     "output_type": "stream",
     "text": [
      "(60000, 28, 28) (60000,)\n",
      "(10000, 28, 28) (10000,)\n"
     ]
    }
   ],
   "source": [
    "# Print the shape of the training data\n",
    "\n",
    "print(train_images.shape, train_labels.shape)\n",
    "print(test_images.shape, test_labels.shape)"
   ]
  },
  {
   "cell_type": "code",
   "execution_count": 56,
   "metadata": {},
   "outputs": [
    {
     "name": "stdout",
     "output_type": "stream",
     "text": [
      "9\n"
     ]
    }
   ],
   "source": [
    "# Define the labels\n",
    "\n",
    "labels = [\n",
    "    'T-shirt/top',\n",
    "    'Trouser',\n",
    "    'Pullover',\n",
    "    'Dress',\n",
    "    'Coat',\n",
    "    'Sandal',\n",
    "    'Shirt',\n",
    "    'Sneaker',\n",
    "    'Bag',\n",
    "    'Ankle boot'\n",
    "]\n",
    "print(train_labels[0])"
   ]
  },
  {
   "cell_type": "code",
   "execution_count": 57,
   "metadata": {},
   "outputs": [],
   "source": [
    "# Rescale the image values so that they lie in between 0 and 1.\n",
    "\n",
    "train_images = train_images/255.\n",
    "test_images = test_images/255."
   ]
  },
  {
   "cell_type": "code",
   "execution_count": 58,
   "metadata": {},
   "outputs": [
    {
     "data": {
      "image/png": "[encoded data removed]",
      "text/plain": [
       "<Figure size 432x288 with 1 Axes>"
      ]
     },
     "metadata": {
      "needs_background": "light"
     },
     "output_type": "display_data"
    },
    {
     "name": "stdout",
     "output_type": "stream",
     "text": [
      "label: Ankle boot\n"
     ]
    }
   ],
   "source": [
    "# Display one of the images\n",
    "\n",
    "i = 0\n",
    "img = train_images[i, :, :]\n",
    "plt.imshow(img)\n",
    "plt.show()\n",
    "print(\"label:\", labels[train_labels[i]])"
   ]
  },
  {
   "cell_type": "markdown",
   "metadata": {},
   "source": [
    "#### Fit the model"
   ]
  },
  {
   "cell_type": "code",
   "execution_count": 60,
   "metadata": {},
   "outputs": [
    {
     "name": "stdout",
     "output_type": "stream",
     "text": [
      "Train on 60000 samples\n",
      "Epoch 1/2\n",
      "60000/60000 - 45s - loss: 0.3378 - accuracy: 0.8796 - mae: 4.4200\n",
      "Epoch 2/2\n",
      "60000/60000 - 45s - loss: 0.3203 - accuracy: 0.8860 - mae: 4.4200\n"
     ]
    }
   ],
   "source": [
    "# Fit the model\n",
    "\n",
    "history = model.fit(train_images[..., np.newaxis], train_labels, epochs=2, batch_size=256, verbose=2)"
   ]
  },
  {
   "cell_type": "markdown",
   "metadata": {},
   "source": [
    "#### Plot training history"
   ]
  },
  {
   "cell_type": "code",
   "execution_count": 61,
   "metadata": {},
   "outputs": [
    {
     "data": {
      "text/html": [
       "<div>\n",
       "<style scoped>\n",
       "    .dataframe tbody tr th:only-of-type {\n",
       "        vertical-align: middle;\n",
       "    }\n",
       "\n",
       "    .dataframe tbody tr th {\n",
       "        vertical-align: top;\n",
       "    }\n",
       "\n",
       "    .dataframe thead th {\n",
       "        text-align: right;\n",
       "    }\n",
       "</style>\n",
       "<table border=\"1\" class=\"dataframe\">\n",
       "  <thead>\n",
       "    <tr style=\"text-align: right;\">\n",
       "      <th></th>\n",
       "      <th>loss</th>\n",
       "      <th>accuracy</th>\n",
       "      <th>mae</th>\n",
       "    </tr>\n",
       "  </thead>\n",
       "  <tbody>\n",
       "    <tr>\n",
       "      <th>0</th>\n",
       "      <td>0.337849</td>\n",
       "      <td>0.879617</td>\n",
       "      <td>4.420000</td>\n",
       "    </tr>\n",
       "    <tr>\n",
       "      <th>1</th>\n",
       "      <td>0.320348</td>\n",
       "      <td>0.886033</td>\n",
       "      <td>4.420001</td>\n",
       "    </tr>\n",
       "  </tbody>\n",
       "</table>\n",
       "</div>"
      ],
      "text/plain": [
       "       loss  accuracy       mae\n",
       "0  0.337849  0.879617  4.420000\n",
       "1  0.320348  0.886033  4.420001"
      ]
     },
     "execution_count": 61,
     "metadata": {},
     "output_type": "execute_result"
    }
   ],
   "source": [
    "# Load the history into a pandas Dataframe\n",
    "\n",
    "df = pd.DataFrame(history.history)\n",
    "df.head()"
   ]
  },
  {
   "cell_type": "code",
   "execution_count": 62,
   "metadata": {},
   "outputs": [
    {
     "data": {
      "text/plain": [
       "[Text(0, 0.5, 'Loss'), Text(0.5, 0, 'Epochs')]"
      ]
     },
     "execution_count": 62,
     "metadata": {},
     "output_type": "execute_result"
    },
    {
     "data": {
      "image/png": "[encoded data removed]",
      "text/plain": [
       "<Figure size 432x288 with 1 Axes>"
      ]
     },
     "metadata": {
      "needs_background": "light"
     },
     "output_type": "display_data"
    }
   ],
   "source": [
    "# Make a plot for the loss\n",
    "\n",
    "loss_plot = df.plot(y = \"loss\", title = \"Loss vs Epochs\", legend=False)\n",
    "loss_plot.set(xlabel = \"Epochs\", ylabel=\"Loss\")"
   ]
  },
  {
   "cell_type": "code",
   "execution_count": 63,
   "metadata": {},
   "outputs": [
    {
     "data": {
      "text/plain": [
       "[Text(0, 0.5, 'ACC'), Text(0.5, 0, 'Epochs')]"
      ]
     },
     "execution_count": 63,
     "metadata": {},
     "output_type": "execute_result"
    },
    {
     "data": {
      "image/png": "[encoded data removed]",
      "text/plain": [
       "<Figure size 432x288 with 1 Axes>"
      ]
     },
     "metadata": {
      "needs_background": "light"
     },
     "output_type": "display_data"
    }
   ],
   "source": [
    "# Make a plot for the accuracy\n",
    "\n",
    "loss_plot = df.plot(y = \"accuracy\", title = \"accuracy vs Epochs\", legend=False)\n",
    "loss_plot.set(xlabel = \"Epochs\", ylabel=\"ACC\")"
   ]
  },
  {
   "cell_type": "code",
   "execution_count": 64,
   "metadata": {},
   "outputs": [
    {
     "data": {
      "text/plain": [
       "[Text(0, 0.5, 'mae'), Text(0.5, 0, 'Epochs')]"
      ]
     },
     "execution_count": 64,
     "metadata": {},
     "output_type": "execute_result"
    },
    {
     "data": {
      "image/png": "[encoded data removed]",
      "text/plain": [
       "<Figure size 432x288 with 1 Axes>"
      ]
     },
     "metadata": {
      "needs_background": "light"
     },
     "output_type": "display_data"
    }
   ],
   "source": [
    "# Make a plot for the additional metric\n",
    "\n",
    "loss_plot = df.plot(y = \"mae\", title = \"MAE vs Epochs\", legend=False)\n",
    "loss_plot.set(xlabel = \"Epochs\", ylabel=\"mae\")"
   ]
  },
  {
   "cell_type": "markdown",
   "metadata": {},
   "source": [
    "***\n",
    "<a id=\"coding_tutorial_5\"></a>\n",
    "## The evaluate and predict methods"
   ]
  },
  {
   "cell_type": "code",
   "execution_count": 65,
   "metadata": {},
   "outputs": [],
   "source": [
    "import matplotlib.pyplot as plt\n",
    "import numpy as np"
   ]
  },
  {
   "cell_type": "markdown",
   "metadata": {},
   "source": [
    "#### Evaluate the model on the test set"
   ]
  },
  {
   "cell_type": "code",
   "execution_count": 68,
   "metadata": {},
   "outputs": [
    {
     "name": "stdout",
     "output_type": "stream",
     "text": [
      "10000/1 - 5s - loss: 0.3614 - accuracy: 0.8808 - mae: 4.4200\n"
     ]
    },
    {
     "data": {
      "text/plain": [
       "[0.33581730518341063, 0.8808, 4.419997]"
      ]
     },
     "execution_count": 68,
     "metadata": {},
     "output_type": "execute_result"
    }
   ],
   "source": [
    "# Evaluate the model\n",
    "\n",
    "model.evaluate(test_images[..., np.newaxis], test_labels, verbose=2)"
   ]
  },
  {
   "cell_type": "markdown",
   "metadata": {},
   "source": [
    "#### Make predictions from the model"
   ]
  },
  {
   "cell_type": "code",
   "execution_count": 70,
   "metadata": {},
   "outputs": [
    {
     "data": {
      "image/png": "[encoded data removed]",
      "text/plain": [
       "<Figure size 432x288 with 1 Axes>"
      ]
     },
     "metadata": {
      "needs_background": "light"
     },
     "output_type": "display_data"
    },
    {
     "name": "stdout",
     "output_type": "stream",
     "text": [
      "Label: Pullover\n"
     ]
    },
    {
     "data": {
      "text/plain": [
       "(28, 28)"
      ]
     },
     "execution_count": 70,
     "metadata": {},
     "output_type": "execute_result"
    }
   ],
   "source": [
    "# Choose a random test image\n",
    "\n",
    "random_inx = np.random.choice(test_images.shape[0])\n",
    "\n",
    "test_image = test_images[random_inx]\n",
    "plt.imshow(test_image)\n",
    "plt.show()\n",
    "print(f\"Label: {labels[test_labels[random_inx]]}\")\n",
    "test_image.shape"
   ]
  },
  {
   "cell_type": "code",
   "execution_count": 76,
   "metadata": {},
   "outputs": [
    {
     "name": "stdout",
     "output_type": "stream",
     "text": [
      "Pullover\n"
     ]
    }
   ],
   "source": [
    "# Get the model predictions\n",
    "\n",
    "prediction = model.predict(test_image[np.newaxis, ..., np.newaxis])\n",
    "print(labels[np.argmax(prediction)])"
   ]
  },
  {
   "cell_type": "code",
   "execution_count": null,
   "metadata": {},
   "outputs": [],
   "source": []
  }
 ],
 "metadata": {
  "kernelspec": {
   "display_name": "Python 3",
   "language": "python",
   "name": "python3"
  },
  "language_info": {
   "codemirror_mode": {
    "name": "ipython",
    "version": 3
   },
   "file_extension": ".py",
   "mimetype": "text/x-python",
   "name": "python",
   "nbconvert_exporter": "python",
   "pygments_lexer": "ipython3",
   "version": "3.7.1"
  }
 },
 "nbformat": 4,
 "nbformat_minor": 2
}
